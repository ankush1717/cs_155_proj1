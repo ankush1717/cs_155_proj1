{
 "cells": [
  {
   "cell_type": "markdown",
   "metadata": {},
   "source": [
    "Extracting training data"
   ]
  },
  {
   "cell_type": "code",
   "execution_count": 2,
   "metadata": {},
   "outputs": [],
   "source": [
    "import numpy as np\n",
    "data = np.loadtxt(open(\"train_2008.csv\", \"rb\"), delimiter=\",\", skiprows=1)\n",
    "print(data)"
   ]
  },
  {
   "cell_type": "code",
   "execution_count": 23,
   "metadata": {},
   "outputs": [],
   "source": [
    "X_train = data[:, 3:383]\n",
    "Y_train = data[382]"
   ]
  },
  {
   "cell_type": "code",
   "execution_count": 25,
   "metadata": {},
   "outputs": [],
   "source": [
    "from sklearn.decomposition import PCA"
   ]
  },
  {
   "cell_type": "markdown",
   "metadata": {},
   "source": [
    "Transforming data to unit scale (important, see https://scikit-learn.org/stable/auto_examples/preprocessing/plot_scaling_importance.html#sphx-glr-auto-examples-preprocessing-plot-scaling-importance-py)"
   ]
  },
  {
   "cell_type": "code",
   "execution_count": 32,
   "metadata": {},
   "outputs": [],
   "source": [
    "from sklearn.preprocessing import StandardScaler\n",
    "scaler = StandardScaler()\n",
    "# Fit on training set only.\n",
    "scaler.fit(X_train)\n",
    "# Apply transform to both the training set and the test set.\n",
    "X_train = scaler.transform(X_train)"
   ]
  },
  {
   "cell_type": "markdown",
   "metadata": {},
   "source": [
    "Fitting PCA"
   ]
  },
  {
   "cell_type": "code",
   "execution_count": 33,
   "metadata": {},
   "outputs": [
    {
     "data": {
      "text/plain": [
       "PCA(copy=True, iterated_power='auto', n_components=None, random_state=None,\n",
       "  svd_solver='auto', tol=0.0, whiten=False)"
      ]
     },
     "execution_count": 33,
     "metadata": {},
     "output_type": "execute_result"
    }
   ],
   "source": [
    "pca = PCA()\n",
    "pca.fit(X_train)"
   ]
  },
  {
   "cell_type": "markdown",
   "metadata": {},
   "source": [
    "This prints a sorted array with the explained variance of the most important features (scaled to add to 1, thus a \"ratio\")"
   ]
  },
  {
   "cell_type": "code",
   "execution_count": null,
   "metadata": {},
   "outputs": [],
   "source": [
    "print(pca.explained_variance_ratio_)"
   ]
  },
  {
   "cell_type": "markdown",
   "metadata": {},
   "source": [
    "To see how many features we can shave off, we can make a cumulative sum array, so keeping the first $i$ features preserves ratios[i] of the variance"
   ]
  },
  {
   "cell_type": "code",
   "execution_count": 44,
   "metadata": {},
   "outputs": [
    {
     "name": "stdout",
     "output_type": "stream",
     "text": [
      "[0.16177281 0.20682623 0.24295566 0.27541845 0.30125789 0.32430912\n",
      " 0.34605532 0.36428452 0.38224014 0.39861743 0.41295514 0.42657111\n",
      " 0.43919913 0.45146501 0.46213952 0.47202735 0.48144214 0.4902248\n",
      " 0.49865001 0.50661268 0.51425258 0.52144689 0.52856563 0.53540485\n",
      " 0.54205312 0.54857045 0.55492899 0.56103369 0.56678657 0.57250957\n",
      " 0.57810077 0.58361398 0.58907452 0.59445895 0.59979438 0.6051234\n",
      " 0.6102807  0.61537782 0.62042789 0.62534576 0.63011841 0.63476748\n",
      " 0.63939281 0.64398176 0.64852224 0.65283984 0.65710577 0.66128003\n",
      " 0.66540704 0.66942053 0.6733754  0.67729866 0.68118179 0.68504254\n",
      " 0.68886525 0.69260262 0.6962695  0.69987877 0.70341474 0.70692404\n",
      " 0.71040157 0.7138587  0.71725351 0.72062207 0.72395017 0.72727044\n",
      " 0.73054313 0.73377338 0.73696983 0.74015576 0.74331868 0.74640527\n",
      " 0.74944958 0.7524832  0.75550351 0.75848492 0.76136929 0.76422367\n",
      " 0.76705697 0.76986248 0.77264703 0.77543011 0.77819325 0.78094061\n",
      " 0.7836766  0.78640276 0.78911893 0.7918033  0.79446282 0.79711666\n",
      " 0.79976927 0.80241755 0.805046   0.80765225 0.81024347 0.81281691\n",
      " 0.81536555 0.81788003 0.82039084 0.82287646 0.8253409  0.82778593\n",
      " 0.83021563 0.83261621 0.83500836 0.83738104 0.83974298 0.842072\n",
      " 0.84438819 0.84667124 0.84894125 0.85119727 0.85343175 0.85566439\n",
      " 0.85788123 0.86008559 0.86228478 0.86445804 0.86662939 0.86876819\n",
      " 0.8709036  0.87298848 0.87504485 0.87708144 0.87909486 0.88108909\n",
      " 0.88307993 0.88503283 0.88695208 0.88885199 0.8907249  0.89258758\n",
      " 0.89444018 0.89625799 0.89806103 0.89984108 0.90161381 0.90336706\n",
      " 0.905108   0.90683262 0.90854461 0.91024113 0.91192609 0.91359718\n",
      " 0.915261   0.91691034 0.91854715 0.92018163 0.92178439 0.9233789\n",
      " 0.92495933 0.92652887 0.92808769 0.92963239 0.93113354 0.93261931\n",
      " 0.93409741 0.93555214 0.93699852 0.93843556 0.93986459 0.94128355\n",
      " 0.94268228 0.94407662 0.94542217 0.94673928 0.94804423 0.94932772\n",
      " 0.95055423 0.95173489 0.95291237 0.9540281  0.95513251 0.95620332\n",
      " 0.95726966 0.95833128 0.9593859  0.96042783 0.96145809 0.9624807\n",
      " 0.96343595 0.96434491 0.96524541 0.96613327 0.96700006 0.96785015\n",
      " 0.96865176 0.96944602 0.97018902 0.97092986 0.97165346 0.9723641\n",
      " 0.9730638  0.97375558 0.97443771 0.97510286 0.97574819 0.97638753\n",
      " 0.97701685 0.97762768 0.97822548 0.978804   0.97937656 0.97994159\n",
      " 0.98048747 0.98102653 0.98155104 0.98206659 0.98256377 0.98303969\n",
      " 0.98349486 0.9839415  0.9843784  0.98479945 0.98521385 0.98560657\n",
      " 0.98599197 0.98636254 0.98672399 0.98707918 0.98742265 0.98776099\n",
      " 0.98808334 0.98840447 0.98871465 0.98901408 0.98931198 0.98960854\n",
      " 0.98989175 0.99016828 0.99044052 0.99070751 0.99097049 0.99123024\n",
      " 0.99148678 0.99173991 0.99199    0.99223736 0.99247481 0.99270451\n",
      " 0.99292693 0.99314634 0.99336295 0.99356693 0.99376912 0.9939664\n",
      " 0.99415984 0.99434806 0.99453394 0.99471667 0.99488858 0.99505486\n",
      " 0.9952193  0.9953811  0.9955415  0.99570061 0.99585404 0.99600012\n",
      " 0.99614219 0.99628163 0.99641913 0.99655511 0.99668928 0.99681504\n",
      " 0.99693975 0.99706291 0.9971795  0.99729276 0.99740117 0.99750873\n",
      " 0.99761095 0.99771197 0.99780895 0.997901   0.99799224 0.99808117\n",
      " 0.99816356 0.99824495 0.99832262 0.99839805 0.99846999 0.99854\n",
      " 0.99860396 0.99866351 0.99872284 0.99878016 0.99883729 0.9988942\n",
      " 0.99894686 0.99899617 0.99904162 0.99908478 0.99912649 0.9991666\n",
      " 0.99920536 0.9992435  0.99928136 0.99931906 0.99935407 0.99938847\n",
      " 0.99942103 0.99945181 0.99948214 0.99951059 0.9995388  0.99956402\n",
      " 0.99958798 0.9996114  0.99963373 0.99965345 0.99967248 0.99969145\n",
      " 0.99970995 0.99972778 0.99974529 0.99976244 0.99977892 0.99979485\n",
      " 0.99980908 0.99982179 0.99983413 0.99984522 0.99985554 0.99986522\n",
      " 0.99987462 0.99988376 0.99989256 0.99990101 0.99990862 0.99991601\n",
      " 0.99992329 0.99993028 0.99993725 0.99994415 0.99995005 0.99995547\n",
      " 0.99996026 0.99996438 0.99996786 0.99997102 0.99997378 0.9999765\n",
      " 0.99997918 0.99998182 0.99998425 0.99998631 0.99998816 0.99999\n",
      " 0.99999179 0.99999342 0.99999486 0.99999616 0.99999713 0.999998\n",
      " 0.99999857 0.99999898 0.99999939 0.99999968 0.99999991 0.99999999\n",
      " 1.         1.         1.         1.         1.         1.\n",
      " 1.         1.         1.         1.         1.         1.\n",
      " 1.         1.         1.         1.         1.         1.\n",
      " 1.         1.        ]\n"
     ]
    }
   ],
   "source": [
    "cum_sum = 0.\n",
    "ratios = pca.explained_variance_ratio_\n",
    "for i in range(len(ratios)):\n",
    "    elem = ratios[i]\n",
    "    elem += cum_sum\n",
    "    cum_sum = elem\n",
    "    ratios[i] = elem\n",
    "print(ratios)\n",
    "\n",
    "    \n",
    "    "
   ]
  },
  {
   "cell_type": "markdown",
   "metadata": {},
   "source": [
    "Note that around only $\\frac{2}{3}$ of the features can explain 99.5% of the variance."
   ]
  },
  {
   "cell_type": "code",
   "execution_count": 56,
   "metadata": {},
   "outputs": [
    {
     "data": {
      "text/plain": [
       "0.9948885777770978"
      ]
     },
     "execution_count": 56,
     "metadata": {},
     "output_type": "execute_result"
    }
   ],
   "source": [
    "ratios[250]"
   ]
  },
  {
   "cell_type": "markdown",
   "metadata": {},
   "source": [
    "we could maybe use the 250-300 most important features in training (but idk how much time this will save us)"
   ]
  },
  {
   "cell_type": "code",
   "execution_count": null,
   "metadata": {},
   "outputs": [],
   "source": []
  }
 ],
 "metadata": {
  "kernelspec": {
   "display_name": "Python 3",
   "language": "python",
   "name": "python3"
  },
  "language_info": {
   "codemirror_mode": {
    "name": "ipython",
    "version": 3
   },
   "file_extension": ".py",
   "mimetype": "text/x-python",
   "name": "python",
   "nbconvert_exporter": "python",
   "pygments_lexer": "ipython3",
   "version": "3.7.2"
  }
 },
 "nbformat": 4,
 "nbformat_minor": 2
}
