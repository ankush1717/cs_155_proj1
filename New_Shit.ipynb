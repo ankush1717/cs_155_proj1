{
 "cells": [
  {
   "cell_type": "code",
   "execution_count": 34,
   "metadata": {},
   "outputs": [],
   "source": [
    "import numpy as np\n",
    "from sklearn.preprocessing import StandardScaler\n",
    "from sklearn.decomposition import PCA\n",
    "from sklearn.model_selection import KFold\n",
    "from sklearn.ensemble import RandomForestClassifier\n",
    "from sklearn.metrics import roc_auc_score\n",
    "from sklearn import svm\n",
    "import matplotlib.pyplot as plt\n",
    "from sklearn.linear_model import LogisticRegression\n",
    "from sklearn.preprocessing import Imputer\n",
    "from sklearn.model_selection import train_test_split\n",
    "\n",
    "def eval_tree_based_model_max_depth(clf, max_depth, X_train, y_train, X_test, y_test):\n",
    "    \"\"\"\n",
    "    This function evaluates the given classifier (either a decision tree or random forest) at all of the \n",
    "    maximum tree depth parameters in the vector max_depth, using the given training and testing\n",
    "    data. It returns two vector, with the training and testing classification errors.\n",
    "    \n",
    "    Inputs:\n",
    "        clf: either a decision tree or random forest classifier object\n",
    "        max_depth: a (T, ) vector of all the max_depth stopping condition parameters \n",
    "                            to test, where T is the number of parameters to test\n",
    "        X_train: (N, D) matrix of training samples.\n",
    "        y_train: (N, ) vector of training labels.\n",
    "        X_test: (N, D) matrix of test samples\n",
    "        y_test: (N, ) vector of test labels\n",
    "    Output:\n",
    "        train_err: (T, ) vector of classification errors on the training data\n",
    "        test_err: (T, ) vector of classification errors on the test data\n",
    "    \"\"\"\n",
    "    training_errors = []\n",
    "    test_errors = []\n",
    "    # evaluates the tree classifier for the desired number of max_tree_depth values values \n",
    "    for i in range(len(max_depth)):\n",
    "        print(max_depth[i])\n",
    "        clf.set_params(min_samples_leaf = max_depth[i])\n",
    "        clf.fit(X_train, y_train)\n",
    "        y_train_predict = clf.predict_proba(X_train)[:, 1]\n",
    "        y_test_predict = clf.predict_proba(X_test)[:,1]\n",
    "        \n",
    "        training_errors.append(roc_auc_score(y_train, y_train_predict))\n",
    "        test_errors.append(roc_auc_score( y_test, y_test_predict))\n",
    "    return np.array(training_errors), np.array(test_errors)\n",
    "\n",
    "def classification_err(y, real_y):\n",
    "    \"\"\"\n",
    "    This function returns the classification error between two equally-sized vectors of \n",
    "    labels; this is the fraction of samples for which the labels differ.\n",
    "    \n",
    "    Inputs:\n",
    "        y: (N, ) shaped array of predicted labels\n",
    "        real_y: (N, ) shaped array of true labels\n",
    "    Output:\n",
    "        Scalar classification error\n",
    "    \"\"\"\n",
    "    return sum(y != real_y)/len(y)\n",
    "\n"
   ]
  },
  {
   "cell_type": "code",
   "execution_count": 27,
   "metadata": {},
   "outputs": [
    {
     "name": "stdout",
     "output_type": "stream",
     "text": [
      "[0. 0. 0. ... 0. 0. 0.]\n"
     ]
    }
   ],
   "source": [
    "data = np.loadtxt(open(\"train_2008.csv\", \"rb\"), delimiter=\",\", skiprows=1)\n",
    "test_data = np.loadtxt(open(\"test_2008.csv\", \"rb\"), delimiter=\",\", skiprows=1)\n",
    "\n",
    "X = data[:, 3:382]\n",
    "y = data[:, 382]\n",
    "print(y)\n",
    "X_test = test_data[:, 3:382]\n",
    "\n"
   ]
  },
  {
   "cell_type": "code",
   "execution_count": 54,
   "metadata": {},
   "outputs": [
    {
     "name": "stdout",
     "output_type": "stream",
     "text": [
      "[ 43  36   8   3 338 196 333 191  34 198 322 330  52 337 230  10 234 336\n",
      "  25 233  26  38 332 231  27 324 189 260  47 249 327 321  61 235 320 236\n",
      "  32 326  44  13  28 319 341 226 194 323  12  14 335   4  59  49 363  56\n",
      "  33  55  29  50  15  62  45  94  24 229  54  71 186 354  92  16 156  18\n",
      " 175  40 232  60 360  83   0  57  51  80 353 228 187 176 184 357 364 160\n",
      "  39  30  69  70 167 334  48 179 329 213 361 276 352  67 163 288   5  17\n",
      "  65  74 343 181 318 210 246  88  19 172 173  75 174 223 180 162 356   7\n",
      " 270 251  41 351  90  98 102 225  35 224 159 269  20 362 114 331 158 134\n",
      " 261  97 204 272 142 209  86 349 157 151   1 242 328 227 275 296 316 355\n",
      " 166 271 315  89 100 298  84 350 274 206 307 103 263 262 348 311  99   6\n",
      " 308 265 317  31 203 268 183 266 101 168 325  72  37  78 313 273 201 300\n",
      " 154 219 237 264 202 290 254  96 221 310 309 306 314 305 164 289 220 312\n",
      " 205 132 182 299  87 358 292 212 238 301 291 293  91 282  46 295 165 359\n",
      " 294 115 283 297 286 222 245 127 281  63 152 129 267 133 147 208  82  93\n",
      " 284 285  21 116 131 146 150   2  81 287 170  79 145 218  95  58 153  85\n",
      " 136 130 253  68 344 161  77 244 135 367 252 185 117 366 155 257 342 140\n",
      " 105 256  76 369 104 241  66 304 365 192 368 303 339 188 190 370 138 177\n",
      " 149 109 110 195 302 345 340 106 215 197 169 214  23 277 118 255  22 113\n",
      " 250 258 259 126 112 278 279 280 247 111  11   9 346 347 108 107 248 217\n",
      " 243 123  64 137 139 125 141 143 144 148 124  53 171 178 122 119 121  73\n",
      " 120  42 199 200 207 211 216 128 239 240 193]\n",
      "371\n",
      "[ 43  36   8 333 191  34 198 322 330  52 337 230  10 234 336  25 233  26\n",
      "  38 332 231  27 324 189 260  47 249 327 321  61 235 320 236  32 326  44\n",
      "  13  28 319 341 226 194 323  12  14 335   4  59  49 363  56  33  55  29\n",
      "  50  15  62  45  94  24 229  54  71 186 354  92  16 156  18 175  40 232\n",
      "  60 360  83   0  57  51  80 353 228 187 176 184 357 364 160  39  30  69\n",
      "  70 167 334  48 179 329 213 361 276 352  67 163 288   5  17  65  74 343\n",
      " 181 318 210 246  88  19 172 173  75 174 223 180 162 356   7 270 251  41\n",
      " 351  90  98 102 225  35 224 159 269  20 362 114 331 158 134 261  97 204\n",
      " 272 142 209  86 349 157 151   1 242 328 227 275 296 316 355 166 271 315\n",
      "  89 100 298  84 350 274 206 307 103 263 262 348 311  99   6 308 265 317\n",
      "  31 203 268 183 266 101 168 325  72  37  78 313 273 201 300 154 219 237\n",
      " 264 202 290 254  96 221 310 309 306 314 305 164 289 220 312 205 132 182\n",
      " 299  87 358 292 212 238 301 291 293  91 282  46 295 165 359 294 115 283\n",
      " 297 286 222 245 127 281  63 152 129 267 133 147 208  82  93 284 285  21\n",
      " 116 131 146 150   2  81 287 170  79 145 218  95  58 153  85 136 130 253\n",
      "  68 344 161  77 244 135 367 252 185 117 366 155 257 342 140 105 256  76\n",
      " 369 104 241  66 304 365 192 368 303 339 188 190 370 138 177 149 109 110\n",
      " 195 302 345 340 106 215 197 169 214  23 277 118 255  22 113 250 258 259\n",
      " 126 112 278 279 280 247 111  11   9 346 347 108 107 248 217 243 123  64\n",
      " 137 139 125 141 143 144 148 124  53 171 178 122 119 121  73 120  42 199\n",
      " 200 207 211 216 128 239 240 193]\n"
     ]
    }
   ],
   "source": [
    "sum(X[:, 10]<0)\n",
    "print(i_love_indices)\n",
    "print(len(i_love_indices))\n",
    "to_delete = [1,2,3,4,5]\n",
    "print(np.delete(i_love_indices, to_delete[2:]))"
   ]
  },
  {
   "cell_type": "code",
   "execution_count": 28,
   "metadata": {},
   "outputs": [
    {
     "name": "stdout",
     "output_type": "stream",
     "text": [
      "(64667, 379)\n",
      "(16000, 379)\n",
      "[9, 11, 126, 127, 128, 132, 133, 134]\n",
      "[9, 10, 11, 124, 125, 126, 127, 128, 131, 132, 133, 134, 215]\n",
      "(64667, 371)\n",
      "(16000, 371)\n",
      "(64667, 371)\n",
      "(16000, 366)\n"
     ]
    }
   ],
   "source": [
    "X[X < 0] = -1\n",
    "print(X.shape)\n",
    "print(X_test.shape)\n",
    "bad_indices = []\n",
    "real_bad_indices = []\n",
    "for i in range(np.shape(X)[1]):\n",
    "    num_less = X[:,i] < 0\n",
    "    #bad_indices.append(float(sum(num_less))/float(len(num_less)))\n",
    "    if sum(num_less)/len(num_less) == 1:\n",
    "        real_bad_indices.append(i)\n",
    "        \n",
    "print(real_bad_indices)\n",
    "# print(bad_indices[45])\n",
    "\n",
    "real_bad_indices_2 = []\n",
    "for i in range(np.shape(X_test)[1]):\n",
    "    num_less = X_test[:,i] < 0\n",
    "    if sum(num_less)/len(num_less) == 1:\n",
    "        real_bad_indices_2.append(i)\n",
    "            \n",
    "print(real_bad_indices_2)  \n",
    "X = np.delete(X, real_bad_indices, axis = 1)\n",
    "X_test = np.delete(X_test, real_bad_indices,axis = 1)\n",
    "print(X.shape)\n",
    "print(X_test.shape)\n",
    "imp = Imputer(missing_values=-1, strategy='mean')\n",
    "X = imp.fit_transform(X)\n",
    "imp = Imputer(missing_values=-1, strategy='mean')\n",
    "X_test = imp.fit_transform(X_test)\n",
    "print(X.shape)\n",
    "print(X_test.shape)"
   ]
  },
  {
   "cell_type": "code",
   "execution_count": 50,
   "metadata": {},
   "outputs": [
    {
     "name": "stdout",
     "output_type": "stream",
     "text": [
      "[9, 10, 11, 124, 125, 126, 127, 128, 131, 132, 133, 134, 215]\n"
     ]
    }
   ],
   "source": [
    "print(real_bad_indices_2)"
   ]
  },
  {
   "cell_type": "code",
   "execution_count": 96,
   "metadata": {},
   "outputs": [
    {
     "name": "stdout",
     "output_type": "stream",
     "text": [
      "250 15\n",
      "(64667, 116)\n",
      "250 30\n",
      "(64667, 116)\n",
      "250 45\n",
      "(64667, 116)\n",
      "250 60\n",
      "(64667, 116)\n",
      "250 75\n",
      "(64667, 116)\n",
      "250 90\n",
      "(64667, 116)\n",
      "250 105\n",
      "(64667, 116)\n",
      "250 120\n",
      "(64667, 116)\n",
      "250 135\n",
      "(64667, 116)\n",
      "250 150\n",
      "(64667, 116)\n",
      "250 165\n",
      "(64667, 116)\n",
      "250 180\n",
      "(64667, 116)\n",
      "250 195\n",
      "(64667, 116)\n"
     ]
    },
    {
     "data": {
      "image/png": "[encoded data removed]",
      "text/plain": [
       "<Figure size 432x288 with 1 Axes>"
      ]
     },
     "metadata": {
      "needs_background": "light"
     },
     "output_type": "display_data"
    },
    {
     "name": "stdout",
     "output_type": "stream",
     "text": [
      "Test error minimized at max_depth = 0.7812911590086203 15\n",
      "[0.7812911590086203, 0.7785454829203367, 0.7774089876438951, 0.7753965897579239, 0.7745486870320195, 0.7734545040797175, 0.7721602594589216, 0.7707802651945228, 0.7709719206479548, 0.7707476090802498, 0.7696779885258602, 0.7694019584231102, 0.768625211651464]\n",
      "300 15\n",
      "(64667, 66)\n",
      "300 30\n",
      "(64667, 66)\n",
      "300 45\n",
      "(64667, 66)\n",
      "300 60\n",
      "(64667, 66)\n",
      "300 75\n",
      "(64667, 66)\n",
      "300 90\n",
      "(64667, 66)\n",
      "300 105\n",
      "(64667, 66)\n",
      "300 120\n",
      "(64667, 66)\n",
      "300 135\n",
      "(64667, 66)\n",
      "300 150\n",
      "(64667, 66)\n",
      "300 165\n",
      "(64667, 66)\n",
      "300 180\n",
      "(64667, 66)\n",
      "300 195\n",
      "(64667, 66)\n"
     ]
    },
    {
     "data": {
      "image/png": "[encoded data removed]",
      "text/plain": [
       "<Figure size 432x288 with 1 Axes>"
      ]
     },
     "metadata": {
      "needs_background": "light"
     },
     "output_type": "display_data"
    },
    {
     "name": "stdout",
     "output_type": "stream",
     "text": [
      "Test error minimized at max_depth = 0.7824377792429801 15\n",
      "[0.7824377792429801, 0.7795911973240861, 0.7769439895765433, 0.7762017739113771, 0.7747838423046554, 0.7735325037555313, 0.7727636632010249, 0.7720519161592234, 0.7707494215727166, 0.7703264233308029, 0.7693403024293679, 0.7689814914206763, 0.7680092767114437]\n"
     ]
    }
   ],
   "source": [
    "# kf = KFold(n_splits = 5, shuffle = True) \n",
    "\n",
    "# all_predictions = np.zeros(5)\n",
    "# for train_index, test_index in kf.split(X):\n",
    "#     # print(\"TRAIN:\", train_index, \"TEST:\", test_index)\n",
    "#     X_train, X_val = X[train_index], X[test_index]\n",
    "#     y_train, y_val = y[train_index], y[test_index]\n",
    "    \n",
    "#     #fprint(np.shape(y_test))\n",
    "#     scaler = StandardScaler()\n",
    "#     # Fit on training set only.\n",
    "#     scaler.fit(X_train)\n",
    "#     # Apply transform to both the training set and the test set.\n",
    "#     X_train = scaler.transform(X_train)\n",
    "#     X_val = scaler.transform(X_val)\n",
    "\n",
    "\n",
    "\n",
    "for slices in [250,300]:\n",
    "    training_errors = []\n",
    "    test_errors = []\n",
    "    max_depth = np.arange(15,200,15)\n",
    "    for est in max_depth:\n",
    "        print(slices, est)\n",
    "        X = data[:, 3:382]\n",
    "        y = data[:, 382]\n",
    "\n",
    "        X[X < 0] = -1\n",
    "        X = np.delete(X, real_bad_indices_2, axis = 1)\n",
    "        imp = Imputer(missing_values=-1, strategy='mean')\n",
    "        X = imp.fit_transform(X)\n",
    "        X = np.delete(X, i_love_indices[len(i_love_indices) - slices:], axis=1)\n",
    "        print(X.shape)\n",
    "\n",
    "        X_train, X_test, y_train, y_test = train_test_split(X, y, test_size=0.2, random_state=42)\n",
    "\n",
    "        # scaler = StandardScaler()\n",
    "        # scaler.fit(X)\n",
    "        # X = scaler.transform(X)\n",
    "        # X_test = scaler.transform(X_test)\n",
    "\n",
    "        # pca = PCA(n_components = 250)\n",
    "        # pca.fit(X)\n",
    "        # X = pca.transform(X)\n",
    "        # X_test = pca.transform(X_test)\n",
    "        #      X_val = pca.transform(X_val)\n",
    "\n",
    "        clf = RandomForestClassifier(n_estimators = 190, min_samples_leaf = est)\n",
    "        #   clf = svm.SVC(probability = True)\n",
    "        clf.fit(X_train, y_train)\n",
    "        #     print(clf.classes_)\n",
    "        #clf.fit(X, y)\n",
    "\n",
    "        #     predictions = clf.predict_proba(X_val)[:, 1]\n",
    "        #     print(sum(np.floor(2.0*predictions) != np.array(y_val))/len(predictions))\n",
    "        #     print(roc_auc_score(y_val, predictions))\n",
    "    #     importances = clf.feature_importances_\n",
    "    #     indices = np.argsort(importances)[::-1]\n",
    "    #     #Print the feature ranking\n",
    "    #     print(\"Feature ranking:\")\n",
    "    #     for f in range(X.shape[1]):\n",
    "    #         print(\"%d. feature %d (%f)\" % (f, indices[f], importances[indices[f]]))\n",
    "    #         #print(X_train[:, indices[f]])\n",
    "\n",
    "\n",
    "        #print(1) \n",
    "        #max_depth = np.arange(10, 200, 20)\n",
    "        #train_err, test_err = eval_tree_based_model_max_depth(clf, max_depth, X_train, y_train, X_val, y_val)\n",
    "\n",
    "\n",
    "        y_train_predict = clf.predict_proba(X_train)[:, 1]\n",
    "        y_test_predict = clf.predict_proba(X_test)[:,1]\n",
    "\n",
    "        training_errors.append(roc_auc_score(y_train, y_train_predict))\n",
    "        test_errors.append(roc_auc_score(y_test, y_test_predict))\n",
    "\n",
    "\n",
    "    plt.figure()\n",
    "    plt.plot(max_depth, test_errors, label='Testing error')\n",
    "    plt.plot(max_depth, training_errors, label='Training error')\n",
    "    plt.xlabel('Maximum Tree Depth')\n",
    "    plt.ylabel('Classification error')\n",
    "    plt.title('Decision Tree with Gini Impurity and Maximum Tree Depth')\n",
    "    plt.legend(loc=0, shadow=True, fontsize='x-large')\n",
    "    plt.show()\n",
    "\n",
    "    print('Test error minimized at max_depth =', np.max(test_errors), max_depth[np.argmax(test_errors)])\n",
    "    print(test_errors)\n",
    "\n",
    "#results = clf.predict_proba(X_test)\n"
   ]
  },
  {
   "cell_type": "code",
   "execution_count": 90,
   "metadata": {},
   "outputs": [
    {
     "data": {
      "image/png": "[encoded data removed]",
      "text/plain": [
       "<Figure size 432x288 with 1 Axes>"
      ]
     },
     "metadata": {
      "needs_background": "light"
     },
     "output_type": "display_data"
    },
    {
     "name": "stdout",
     "output_type": "stream",
     "text": [
      "Test error minimized at max_depth = 0.7811935031645026 285\n",
      "[0.7790570432941638, 0.7785818265192835, 0.7808646139064485, 0.7798827898621545, 0.7797951339764745, 0.7797162280544273, 0.7807279894742938, 0.7801513199960762, 0.7807501143823371, 0.7794381510851845, 0.7800824140324667, 0.7790893869097356, 0.7805945056540857, 0.7799728519878338, 0.7802944912760206, 0.7811935031645026]\n"
     ]
    }
   ],
   "source": [
    "plt.figure()\n",
    "plt.plot(max_depth, test_errors[8:], label='Testing error')\n",
    "plt.plot(max_depth, training_errors[8:], label='Training error')\n",
    "plt.xlabel('Maximum Tree Depth')\n",
    "plt.ylabel('Classification error')\n",
    "plt.title('Decision Tree with Gini Impurity and Maximum Tree Depth')\n",
    "plt.legend(loc=0, shadow=True, fontsize='x-large')\n",
    "plt.show()\n",
    "print('Test error minimized at max_depth =', np.max(test_errors[8:]), max_depth[np.argmax(test_errors[8:])])\n",
    "print(test_errors)"
   ]
  },
  {
   "cell_type": "code",
   "execution_count": 100,
   "metadata": {},
   "outputs": [],
   "source": [
    "#ACTUAL MODEL CODE\n",
    "\n",
    "X = data[:, 3:382]\n",
    "y = data[:, 382]\n",
    "\n",
    "X_test = test_data[:, 3:382]\n",
    "\n",
    "X[X < 0] = -1\n",
    "X = np.delete(X, real_bad_indices_2, axis = 1)\n",
    "imp = Imputer(missing_values=-1, strategy='mean')\n",
    "X = imp.fit_transform(X)\n",
    "\n",
    "X = np.delete(X, i_love_indices[len(i_love_indices) - 250:], axis=1)\n",
    "\n",
    "\n",
    "#X_test[X_test < 0] = -1\n",
    "X_test = np.delete(X_test, real_bad_indices_2,axis = 1)\n",
    "imp = Imputer(missing_values=-1, strategy='mean')\n",
    "X_test = imp.fit_transform(X_test)\n",
    "\n",
    "X_test = np.delete(X_test, i_love_indices[len(i_love_indices) - 250:], axis=1)\n",
    "\n",
    "#print(X.shape)\n",
    "clf = RandomForestClassifier(n_estimators = 190, min_samples_leaf = 20)\n",
    "clf.fit(X, y)\n",
    "\n",
    "#importances = clf.feature_importances_\n",
    "#indices = np.argsort(importances)[::-1]\n",
    "#Print the feature ranking\n",
    "#print(\"Feature ranking:\")\n",
    "# for f in range(X.shape[1]):\n",
    "#     print(\"%d. feature %d (%f)\" % (f, indices[f], importances[indices[f]]))\n",
    "#     #print(X_train[:, indices[f]])\n",
    "    \n",
    "#i_love_indices = indices\n",
    "\n",
    "results = clf.predict_proba(X_test)\n",
    "\n",
    "\n",
    "\n"
   ]
  },
  {
   "cell_type": "code",
   "execution_count": 121,
   "metadata": {
    "scrolled": true
   },
   "outputs": [],
   "source": [
    "\n",
    "results[results < 0.03] = 0\n",
    "results[results > 0.67] = 1\n",
    "with open('output_1.csv', 'w') as output:\n",
    "    output.write('id,target\\n')\n",
    "    for i in range(len(test_data)):\n",
    "        output.write(str(int(test_data[i][0])) + ',' + str(results[i]) + '\\n')\n",
    "\n"
   ]
  },
  {
   "cell_type": "code",
   "execution_count": 117,
   "metadata": {},
   "outputs": [
    {
     "name": "stdout",
     "output_type": "stream",
     "text": [
      "[0.8198093  0.80898397 0.79962917 0.79021625 0.78625062 0.78174169\n",
      " 0.77853367 0.77287553 0.77251965 0.76782463 0.76634991 0.76543805\n",
      " 0.76533352 0.76396577 0.76154461 0.75544078 0.75501377 0.75472866\n",
      " 0.7546399  0.75458857 0.75358048 0.75243728 0.75224463 0.7498976\n",
      " 0.74829219 0.74430351 0.74257807 0.74173416 0.74158917 0.74113962\n",
      " 0.73908588 0.73775042 0.73564811 0.73533103 0.73526861 0.73502455\n",
      " 0.73359814 0.73351175 0.73261683 0.73128456 0.72906647 0.72233281\n",
      " 0.72222513 0.7200193  0.7192253  0.71918656 0.71897341 0.71838145\n",
      " 0.71754991 0.71695955 0.71683241 0.71653549 0.71561504 0.71463297\n",
      " 0.7145744  0.71417955 0.71383217 0.71223372 0.71113641 0.71004102\n",
      " 0.70977054 0.70806521 0.7076079  0.70668292 0.70667916 0.70656725\n",
      " 0.70564052 0.70539752 0.70490761 0.70478262 0.70475867 0.70447995\n",
      " 0.70446921 0.70346516 0.70319091 0.70317852 0.70299224 0.70291811\n",
      " 0.70213975 0.70203857 0.70186658 0.70141378 0.70111054 0.7006842\n",
      " 0.70051245 0.70028475 0.69987121 0.69960211 0.69884543 0.69878389\n",
      " 0.69841817 0.69743702 0.69682552 0.69671847 0.69669214 0.69650423\n",
      " 0.69620605 0.69605726 0.69468834 0.69415874 0.69375805 0.69342542\n",
      " 0.69332111 0.692934   0.69288878 0.69256172 0.6923803  0.69212319\n",
      " 0.69183763 0.69156186 0.69147395 0.69111863 0.69108108 0.69106604\n",
      " 0.69052419 0.69043799 0.69036867 0.6903036  0.69025606 0.6902116\n",
      " 0.69019645 0.68955113 0.68919276 0.68913481 0.68903362 0.68873365\n",
      " 0.68856146 0.6878742  0.68771148 0.68761283 0.68708706 0.68706852\n",
      " 0.68701615 0.68671901 0.68604571 0.68539655 0.68446284 0.68441443\n",
      " 0.68378376 0.6835921  0.68336966 0.6832783  0.68311927 0.68306499\n",
      " 0.68267288 0.68173496 0.681688   0.6815027  0.68137141 0.68123768\n",
      " 0.6811592  0.68043336 0.68029614 0.67949848 0.67941518 0.67929582\n",
      " 0.67923569 0.67908377 0.67890448 0.67882728 0.67841723 0.67829007\n",
      " 0.67817308 0.67807106 0.67800632 0.67796617 0.67779293 0.6775005\n",
      " 0.67730213 0.67715647 0.67704394 0.6766525  0.67664756 0.67644237\n",
      " 0.67557175 0.67521053 0.67478057 0.67472673 0.67467059 0.67420578]\n"
     ]
    }
   ],
   "source": [
    "test = np.copy(results[:, 1])\n",
    "\n",
    "test.sort()\n",
    "print(test[::-1][:180])"
   ]
  },
  {
   "cell_type": "code",
   "execution_count": null,
   "metadata": {},
   "outputs": [],
   "source": []
  }
 ],
 "metadata": {
  "kernelspec": {
   "display_name": "Python 3",
   "language": "python",
   "name": "python3"
  },
  "language_info": {
   "codemirror_mode": {
    "name": "ipython",
    "version": 3
   },
   "file_extension": ".py",
   "mimetype": "text/x-python",
   "name": "python",
   "nbconvert_exporter": "python",
   "pygments_lexer": "ipython3",
   "version": "3.7.2"
  }
 },
 "nbformat": 4,
 "nbformat_minor": 2
}
