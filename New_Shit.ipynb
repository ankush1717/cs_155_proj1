{
 "cells": [
  {
   "cell_type": "code",
   "execution_count": null,
   "metadata": {},
   "outputs": [],
   "source": []
  },
  {
   "cell_type": "code",
   "execution_count": 17,
   "metadata": {},
   "outputs": [
    {
     "name": "stdout",
     "output_type": "stream",
     "text": [
      "[0. 1.]\n",
      "[0.1 0.3 0.5 0.  0.1 0.  0.  0.2 0.5 0.  0.4 0.4 0.1 0.1 0.6 0.1 0.1 0.3\n",
      " 0.5 0.  0.  0.3 0.4 0.3 0.  0.4 0.2 0.3 0.7 0.1 0.2 0.4 0.1 0.5 0.1 0.3\n",
      " 0.3 0.4 0.7 0.2 0.3 0.4 0.  0.2 0.6 0.4 0.7 0.2 0.3 0.3]\n",
      "0.2546775939384568\n",
      "0.7186669297894263\n",
      "[0. 1.]\n",
      "[0.  0.4 0.  0.5 0.  0.2 0.1 0.1 0.8 0.  0.4 0.5 0.  0.3 0.3 0.1 0.4 0.\n",
      " 0.1 0.  0.7 0.3 0.  0.6 0.1 0.4 0.5 0.4 0.3 0.5 0.  0.3 0.1 0.  0.  0.\n",
      " 0.1 0.4 0.1 0.4 0.5 0.6 0.2 0.4 0.6 0.4 0.  0.2 0.  0.1]\n",
      "0.2550641719498995\n",
      "0.7170020491715018\n",
      "[0. 1.]\n",
      "[0.7 0.7 0.5 0.3 0.  0.  0.4 0.  0.2 0.4 0.3 0.4 0.7 0.1 0.4 0.2 0.7 0.2\n",
      " 0.  0.2 0.2 0.3 0.3 0.2 0.2 0.1 0.6 0.  0.3 0.7 0.8 0.1 0.  0.1 0.1 0.3\n",
      " 0.2 0.7 0.6 0.2 0.1 0.  0.2 0.4 0.2 0.1 0.2 0.4 0.  0.3]\n",
      "0.2478156653521998\n",
      "0.7248712046060919\n",
      "[0. 1.]\n",
      "[0.  0.2 0.3 0.5 0.4 0.7 0.4 0.3 0.1 0.1 0.2 0.2 0.  0.4 0.1 0.2 0.4 0.3\n",
      " 0.2 0.4 0.  0.4 0.2 0.3 0.3 0.2 0.9 0.1 0.5 0.  0.4 0.3 0.3 0.5 0.7 0.1\n",
      " 0.4 0.  0.3 0.  0.3 0.3 0.  0.3 0.  0.3 0.1 0.2 0.2 0.3]\n",
      "0.24673316322585634\n",
      "0.7250201732109184\n",
      "[0. 1.]\n",
      "[0.1 0.5 0.1 0.1 0.6 0.2 0.2 0.  0.5 0.2 0.3 0.  0.2 0.4 0.4 0.  0.3 0.2\n",
      " 0.6 0.2 0.2 0.5 0.3 0.5 0.  0.3 0.2 0.  0.  0.2 0.1 0.3 0.  0.  0.3 0.4\n",
      " 0.1 0.1 0.4 0.  0.1 0.4 0.1 0.2 0.1 0.4 0.  0.1 0.3 0.1]\n",
      "0.25732621974793163\n",
      "0.7200644459652883\n"
     ]
    }
   ],
   "source": [
    "import numpy as np\n",
    "from sklearn.preprocessing import StandardScaler\n",
    "from sklearn.decomposition import PCA\n",
    "from sklearn.model_selection import KFold\n",
    "from sklearn.ensemble import RandomForestClassifier\n",
    "from sklearn.metrics import roc_auc_score\n",
    "\n",
    "data = np.loadtxt(open(\"train_2008.csv\", \"rb\"), delimiter=\",\", skiprows=1)\n",
    "test_data = np.loadtxt(open(\"test_2008.csv\", \"rb\"), delimiter=\",\", skiprows=1)\n",
    "\n",
    "kf = KFold(n_splits = 5) \n",
    "\n",
    "X = data[:, 3:382]\n",
    "y = data[:, 382]\n",
    "\n",
    "X_test = data[:, 3:382]\n",
    "\n",
    "pca = PCA(n_components = 250)\n",
    "pca.fit(X)\n",
    "pca.transform(X)\n",
    "pca.transform(X_test)\n",
    "\n",
    "all_predictions = np.zeros(5)\n",
    "for train_index, test_index in kf.split(X):\n",
    "    # print(\"TRAIN:\", train_index, \"TEST:\", test_index)\n",
    "    X_train, X_val = X[train_index], X[test_index]\n",
    "    y_train, y_val = y[train_index], y[test_index]\n",
    "    \n",
    "    #fprint(np.shape(y_test))\n",
    "    scaler = StandardScaler()\n",
    "    # Fit on training set only.\n",
    "    scaler.fit(X_train)\n",
    "    # Apply transform to both the training set and the test set.\n",
    "    X_train = scaler.transform(X_train)\n",
    "    X_val = scaler.transform(X_val)\n",
    "    \n",
    "    clf = RandomForestClassifier()\n",
    "    clf.fit(X_train, y_train)\n",
    "    print(clf.classes_)\n",
    "    \n",
    "    predictions = clf.predict_proba(X_val)[:, 1]\n",
    "    print(predictions[:50])\n",
    "    print(sum(np.floor(2.0*predictions) != np.array(y_val))/len(predictions))\n",
    "    print(roc_auc_score(y_val, predictions))\n",
    "\n",
    "    \n",
    "    \n",
    "    "
   ]
  },
  {
   "cell_type": "code",
   "execution_count": null,
   "metadata": {},
   "outputs": [],
   "source": []
  }
 ],
 "metadata": {
  "kernelspec": {
   "display_name": "Python 3",
   "language": "python",
   "name": "python3"
  },
  "language_info": {
   "codemirror_mode": {
    "name": "ipython",
    "version": 3
   },
   "file_extension": ".py",
   "mimetype": "text/x-python",
   "name": "python",
   "nbconvert_exporter": "python",
   "pygments_lexer": "ipython3",
   "version": "3.7.2"
  }
 },
 "nbformat": 4,
 "nbformat_minor": 2
}
