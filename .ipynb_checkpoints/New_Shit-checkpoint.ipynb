{
 "cells": [
  {
   "cell_type": "code",
   "execution_count": 44,
   "metadata": {},
   "outputs": [],
   "source": [
    "import numpy as np\n",
    "from sklearn.preprocessing import StandardScaler\n",
    "from sklearn.decomposition import PCA\n",
    "from sklearn.model_selection import KFold\n",
    "from sklearn.ensemble import RandomForestClassifier\n",
    "from sklearn.metrics import roc_auc_score\n",
    "from sklearn import svm\n",
    "import matplotlib.pyplot as plt\n",
    "from sklearn.linear_model import LogisticRegression\n",
    "\n",
    "def eval_tree_based_model_max_depth(clf, max_depth, X_train, y_train, X_test, y_test):\n",
    "    \"\"\"\n",
    "    This function evaluates the given classifier (either a decision tree or random forest) at all of the \n",
    "    maximum tree depth parameters in the vector max_depth, using the given training and testing\n",
    "    data. It returns two vector, with the training and testing classification errors.\n",
    "    \n",
    "    Inputs:\n",
    "        clf: either a decision tree or random forest classifier object\n",
    "        max_depth: a (T, ) vector of all the max_depth stopping condition parameters \n",
    "                            to test, where T is the number of parameters to test\n",
    "        X_train: (N, D) matrix of training samples.\n",
    "        y_train: (N, ) vector of training labels.\n",
    "        X_test: (N, D) matrix of test samples\n",
    "        y_test: (N, ) vector of test labels\n",
    "    Output:\n",
    "        train_err: (T, ) vector of classification errors on the training data\n",
    "        test_err: (T, ) vector of classification errors on the test data\n",
    "    \"\"\"\n",
    "    training_errors = []\n",
    "    test_errors = []\n",
    "    # evaluates the tree classifier for the desired number of max_tree_depth values values \n",
    "    for i in range(len(max_depth)):\n",
    "        print(max_depth[i])\n",
    "        clf.set_params(n_estimators = max_depth[i])\n",
    "        clf.fit(X_train, y_train)\n",
    "        y_train_predict = clf.predict_proba(X_train)[:, 1]\n",
    "        y_test_predict = clf.predict_proba(X_test)[:,1]\n",
    "        \n",
    "        training_errors.append(roc_auc_score(y_train, y_train_predict))\n",
    "        test_errors.append(roc_auc_score( y_test, y_test_predict))\n",
    "    return np.array(training_errors), np.array(test_errors)\n",
    "\n",
    "def classification_err(y, real_y):\n",
    "    \"\"\"\n",
    "    This function returns the classification error between two equally-sized vectors of \n",
    "    labels; this is the fraction of samples for which the labels differ.\n",
    "    \n",
    "    Inputs:\n",
    "        y: (N, ) shaped array of predicted labels\n",
    "        real_y: (N, ) shaped array of true labels\n",
    "    Output:\n",
    "        Scalar classification error\n",
    "    \"\"\"\n",
    "    return sum(y != real_y)/len(y)\n",
    "\n"
   ]
  },
  {
   "cell_type": "code",
   "execution_count": 57,
   "metadata": {},
   "outputs": [],
   "source": [
    "data = np.loadtxt(open(\"train_2008.csv\", \"rb\"), delimiter=\",\", skiprows=1)\n",
    "test_data = np.loadtxt(open(\"test_2008.csv\", \"rb\"), delimiter=\",\", skiprows=1)\n",
    "\n",
    "kf = KFold(n_splits = 10, shuffle = True) \n",
    "\n",
    "X = data[:, 3:382]\n",
    "y = data[:, 382]\n",
    "\n",
    "X_test = data[:, 3:382]\n",
    "\n"
   ]
  },
  {
   "cell_type": "code",
   "execution_count": 54,
   "metadata": {},
   "outputs": [
    {
     "name": "stdout",
     "output_type": "stream",
     "text": [
      "264\n",
      "[7, 10, 11, 12, 23, 24, 25, 26, 38, 42, 48, 66, 67, 68, 69, 70, 71, 72, 73, 74, 75, 76, 77, 78, 79, 80, 81, 82, 83, 84, 85, 86, 87, 88, 89, 90, 91, 92, 93, 94, 95, 96, 97, 98, 99, 100, 101, 102, 103, 104, 105, 106, 107, 108, 109, 110, 111, 112, 113, 114, 115, 116, 117, 118, 119, 120, 121, 122, 123, 124, 125, 126, 127, 128, 129, 130, 131, 132, 133, 134, 135, 136, 137, 138, 139, 140, 141, 142, 143, 144, 145, 146, 147, 148, 149, 150, 151, 152, 153, 154, 155, 156, 157, 158, 159, 160, 161, 162, 164, 167, 168, 169, 170, 171, 172, 173, 174, 177, 178, 179, 180, 181, 182, 183, 184, 185, 186, 187, 188, 189, 190, 192, 193, 194, 195, 196, 197, 198, 199, 200, 201, 202, 203, 204, 205, 206, 207, 208, 209, 210, 212, 213, 214, 215, 216, 217, 218, 219, 221, 222, 224, 225, 227, 228, 229, 230, 231, 232, 233, 234, 235, 236, 237, 238, 244, 245, 246, 247, 253, 264, 265, 266, 269, 270, 271, 272, 273, 274, 275, 277, 278, 279, 280, 281, 282, 283, 284, 285, 286, 287, 288, 289, 290, 291, 292, 293, 294, 295, 296, 297, 298, 299, 300, 301, 302, 303, 304, 305, 306, 307, 308, 309, 310, 311, 312, 313, 314, 315, 316, 317, 318, 319, 320, 321, 322, 323, 324, 325, 326, 327, 328, 329, 330, 333, 334, 335, 336, 337, 338, 346, 347, 348, 349, 350, 351, 352, 353, 354, 355, 357, 358, 359, 360, 361]\n"
     ]
    },
    {
     "data": {
      "text/plain": [
       "array([[  1., 201.,   0., ...,   0.,   0.,   0.],\n",
       "       [  1., 201.,   0., ...,   0.,   0.,   0.],\n",
       "       [  1.,   1.,   0., ...,   0.,   0.,   0.],\n",
       "       ...,\n",
       "       [  1.,   1.,   0., ...,   0.,   0.,   0.],\n",
       "       [  1., 201.,   0., ...,   0.,   0.,   0.],\n",
       "       [  1., 201.,   0., ...,   0.,   0.,   0.]])"
      ]
     },
     "execution_count": 54,
     "metadata": {},
     "output_type": "execute_result"
    }
   ],
   "source": [
    "bad_indices = []\n",
    "for i in range(np.shape(X)[1]):\n",
    "    num_less = X[:,i] < 0\n",
    "    if sum(num_less)/len(num_less) > 0.2:\n",
    "        bad_indices.append(i + 1)\n",
    "print(len(bad_indices))\n",
    "print(bad_indices)\n",
    "\n",
    "# np.delete(X, bad_indices, axis = 1)"
   ]
  },
  {
   "cell_type": "code",
   "execution_count": 55,
   "metadata": {},
   "outputs": [
    {
     "name": "stdout",
     "output_type": "stream",
     "text": [
      "0.2308643884335859\n",
      "0.7765839864714341\n",
      "0.23689500541209216\n",
      "0.7791557897699353\n",
      "0.2393691046853255\n",
      "0.7649458586081999\n",
      "0.24076078552651925\n",
      "0.7538410838576104\n",
      "0.23581258698005259\n",
      "0.7518471156042908\n",
      "0.23318385650224216\n",
      "0.767855987913515\n",
      "0.23766816143497757\n",
      "0.7776027196976829\n",
      "0.2466749149396845\n",
      "0.7674700551677873\n",
      "0.22827095576863593\n",
      "0.7598086832753338\n",
      "0.2262604392205382\n",
      "0.7778255414710147\n"
     ]
    }
   ],
   "source": [
    "all_predictions = np.zeros(10)\n",
    "for train_index, test_index in kf.split(X):\n",
    "    # print(\"TRAIN:\", train_index, \"TEST:\", test_index)\n",
    "    X_train, X_val = X[train_index], X[test_index]\n",
    "    y_train, y_val = y[train_index], y[test_index]\n",
    "    \n",
    "#     #fprint(np.shape(y_test))\n",
    "#     scaler = StandardScaler()\n",
    "#     # Fit on training set only.\n",
    "#     scaler.fit(X_train)\n",
    "#     # Apply transform to both the training set and the test set.\n",
    "#     X_train = scaler.transform(X_train)\n",
    "#     X_val = scaler.transform(X_val)\n",
    "    \n",
    "#     pca = PCA(n_components = 250)\n",
    "#     pca.fit(X_train)\n",
    "#     X_train = pca.transform(X_train)\n",
    "#     X_val = pca.transform(X_val)\n",
    "    \n",
    "    clf = RandomForestClassifier(min_samples_leaf = 101, n_estimators = 175)\n",
    "#   clf = svm.SVC(probability = True)\n",
    "    clf.fit(X_train, y_train)\n",
    "#     print(clf.classes_)\n",
    "    \n",
    "    \n",
    "    predictions = clf.predict_proba(X_val)[:, 1]\n",
    "    print(sum(np.floor(2.0*predictions) != np.array(y_val))/len(predictions))\n",
    "    print(roc_auc_score(y_val, predictions))\n",
    "    importances = clf.feature_importances_\n",
    "    indices = np.argsort(importances)[::-1]\n",
    "    # Print the feature ranking\n",
    "    print(\"Feature ranking:\")\n",
    "    for f in range(X_train.shape[1]):\n",
    "        print(\"%d. feature %d (%f)\" % (f + 1, indices[f], importances[indices[f]]))\n",
    "   \n",
    "#     max_depth = np.arange(80, 200, 10)\n",
    "#     train_err, test_err = eval_tree_based_model_max_depth(clf, max_depth, X_train, \n",
    "#                                                             y_train, X_val, y_val)\n",
    "\n",
    "#     plt.figure()\n",
    "#     plt.plot(max_depth, test_err, label='Testing error')\n",
    "#     plt.plot(max_depth, train_err, label='Training error')\n",
    "#     plt.xlabel('Maximum Tree Depth')\n",
    "#     plt.ylabel('Classification error')\n",
    "#     plt.title('Decision Tree with Gini Impurity and Maximum Tree Depth')\n",
    "#     plt.legend(loc=0, shadow=True, fontsize='x-large')\n",
    "#     plt.show()\n",
    "\n",
    "#    print('Test error minimized at max_depth = %i' % max_depth[np.argmax(test_err)])\n",
    "\n",
    "\n"
   ]
  },
  {
   "cell_type": "code",
   "execution_count": null,
   "metadata": {},
   "outputs": [],
   "source": []
  }
 ],
 "metadata": {
  "kernelspec": {
   "display_name": "Python 3",
   "language": "python",
   "name": "python3"
  },
  "language_info": {
   "codemirror_mode": {
    "name": "ipython",
    "version": 3
   },
   "file_extension": ".py",
   "mimetype": "text/x-python",
   "name": "python",
   "nbconvert_exporter": "python",
   "pygments_lexer": "ipython3",
   "version": "3.7.2"
  }
 },
 "nbformat": 4,
 "nbformat_minor": 2
}
